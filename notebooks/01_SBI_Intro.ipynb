{
  "cells": [
    {
      "cell_type": "markdown",
      "metadata": {
        "id": "udHTOH86sM4y"
      },
      "source": [
        "[![Open In Colab](https://colab.research.google.com/assets/colab-badge.svg)](https://colab.research.google.com/github/pranavm19/SBI-Tutorial/blob/main/notebooks/01_SBI_Intro.ipynb)"
      ]
    },
    {
      "cell_type": "markdown",
      "metadata": {
        "id": "7AULwTb7sM40"
      },
      "source": [
        "## Intro to Simulation Based Inference (SBI)\n",
        "**Pranav Mamidanna, PhD** (p.mamidanna22@imperial.ac.uk), April 2025\n",
        "\n",
        "In many scientific and engineering problems, we have access to powerful **simulators** that can generate data $x$ that closely resemble real-world observations $x_{\\text{obs}}$. And our interest lies in the underlying parameters $\\theta$ that govern our problem of interest, often providing mechanistic or causal insight. Using **Bayesian inference**, we aim to estimate the probable values of the parameters that could have generated the observations $x_{\\text{obs}}$ we have acquired, i.e., $p(\\theta \\mid x_{\\text{obs}})$.\n",
        "\n",
        "However, if the simulator does not yield a closed-form likelihood $p(x \\mid \\theta)$, standard Bayesian tools (like MCMC) become challenging or impossible. This is known as the **likelihood-free** or **simulation-based** setting.\n",
        "\n",
        "In this notebook, we explore:\n",
        "1. How, even for a seemingly simple 2D “two-moons” simulator, deriving the exact likelihood is messy.  \n",
        "2. **Approximate Bayesian Computation (ABC)**, an approach that sidesteps the need for a closed-form likelihood by simulating data under proposed parameters and retaining those that generate data “close enough” to our observed dataset.  \n",
        "\n",
        "These ideas are a foundation for **Neural Simulation-Based Inference**, which trains neural networks to approximate posteriors or likelihoods when simulations are available but explicit probability formulas are not."
      ]
    },
    {
      "cell_type": "code",
      "execution_count": 1,
      "metadata": {
        "id": "HSixq7IQsM41",
        "outputId": "fcd678ea-32f6-456c-936a-04bde721ce22",
        "colab": {
          "base_uri": "https://localhost:8080/"
        }
      },
      "outputs": [
        {
          "output_type": "stream",
          "name": "stdout",
          "text": [
            "Collecting corner\n",
            "  Downloading corner-2.2.3-py3-none-any.whl.metadata (2.2 kB)\n",
            "Requirement already satisfied: matplotlib>=2.1 in /usr/local/lib/python3.11/dist-packages (from corner) (3.10.0)\n",
            "Requirement already satisfied: contourpy>=1.0.1 in /usr/local/lib/python3.11/dist-packages (from matplotlib>=2.1->corner) (1.3.2)\n",
            "Requirement already satisfied: cycler>=0.10 in /usr/local/lib/python3.11/dist-packages (from matplotlib>=2.1->corner) (0.12.1)\n",
            "Requirement already satisfied: fonttools>=4.22.0 in /usr/local/lib/python3.11/dist-packages (from matplotlib>=2.1->corner) (4.57.0)\n",
            "Requirement already satisfied: kiwisolver>=1.3.1 in /usr/local/lib/python3.11/dist-packages (from matplotlib>=2.1->corner) (1.4.8)\n",
            "Requirement already satisfied: numpy>=1.23 in /usr/local/lib/python3.11/dist-packages (from matplotlib>=2.1->corner) (2.0.2)\n",
            "Requirement already satisfied: packaging>=20.0 in /usr/local/lib/python3.11/dist-packages (from matplotlib>=2.1->corner) (24.2)\n",
            "Requirement already satisfied: pillow>=8 in /usr/local/lib/python3.11/dist-packages (from matplotlib>=2.1->corner) (11.1.0)\n",
            "Requirement already satisfied: pyparsing>=2.3.1 in /usr/local/lib/python3.11/dist-packages (from matplotlib>=2.1->corner) (3.2.3)\n",
            "Requirement already satisfied: python-dateutil>=2.7 in /usr/local/lib/python3.11/dist-packages (from matplotlib>=2.1->corner) (2.8.2)\n",
            "Requirement already satisfied: six>=1.5 in /usr/local/lib/python3.11/dist-packages (from python-dateutil>=2.7->matplotlib>=2.1->corner) (1.17.0)\n",
            "Downloading corner-2.2.3-py3-none-any.whl (15 kB)\n",
            "Installing collected packages: corner\n",
            "Successfully installed corner-2.2.3\n"
          ]
        }
      ],
      "source": [
        "# Uncomment the line below to ensure that your colab env has corner installed\n",
        "!python -m pip install corner"
      ]
    },
    {
      "cell_type": "code",
      "execution_count": 2,
      "metadata": {
        "id": "I_Y2O6r0sM42"
      },
      "outputs": [],
      "source": [
        "import numpy as np\n",
        "from tqdm import tqdm\n",
        "import matplotlib.pyplot as plt\n",
        "from ipywidgets import interact, interact_manual, FloatSlider, IntSlider\n",
        "import corner"
      ]
    },
    {
      "cell_type": "markdown",
      "metadata": {
        "id": "XxnCtoeksM42"
      },
      "source": [
        "### **Two Moons** _in the Posterior_\n",
        "\n",
        "Consider the following problem - we have a simulator $\\mathbf{Sim} : \\theta \\to x$, which computes $x$ as follows:\n",
        "\n",
        "$$a \\sim Unif\\left(-\\frac{\\pi}{2}, \\frac{\\pi}{2}\\right)$$\n",
        "\n",
        "$$r \\sim Normal(0.1,0.01^2)$$\n",
        "\n",
        "$$p = (r \\cos(a) + 0.5, r \\sin(a))$$\n",
        "\n",
        "$$x^\\top = p + \\left( \\frac{-\\left| \\theta_1 + \\theta_2 \\right|}{\\sqrt{2}}, \\frac{-\\theta_1 + \\theta_2}{\\sqrt{2}} \\right)$$\n",
        "\n",
        "Which in code looks like -"
      ]
    },
    {
      "cell_type": "code",
      "execution_count": 3,
      "metadata": {
        "id": "UcuFRdZXsM42"
      },
      "outputs": [],
      "source": [
        "def two_moons_sbi(theta, n_samples=100, sigma=0.01):\n",
        "    \"\"\"Generate a two moons posterior\"\"\"\n",
        "    alpha = np.random.uniform(-np.pi/2, np.pi/2, n_samples)\n",
        "    r = sigma * np.random.randn(n_samples) + 1\n",
        "    x_1 = r * np.cos(alpha) + 0.5 - np.abs(theta[0] + theta[1])/np.sqrt(2)\n",
        "    x_2 = r * np.sin(alpha) + (- theta[0] + theta[1])/np.sqrt(2)\n",
        "\n",
        "    x =  np.stack([x_1, x_2], axis=-1)\n",
        "\n",
        "    return x"
      ]
    },
    {
      "cell_type": "markdown",
      "metadata": {
        "id": "SRovz2YCsM43"
      },
      "source": [
        "And generates data that looks like below. Play around with the simulator below to get a sense of how the data looks like for different values of $\\theta$."
      ]
    },
    {
      "cell_type": "code",
      "execution_count": 4,
      "metadata": {
        "id": "7nNE3407sM43",
        "outputId": "1528739b-f665-41e9-a66e-b01e2e740f96",
        "colab": {
          "base_uri": "https://localhost:8080/",
          "height": 438,
          "referenced_widgets": [
            "1759ad314a794c64af5bea8e5e62a3f6",
            "dd4695a6e532415991c704f8e2c80b7a",
            "a06659f34ed2419894c0b98f64e337c3",
            "4321d772c0764a74acbaa7509b761ffb",
            "2cf3ceeeff704ca9b9d3372592750233",
            "584536f0768c4756b95b41f6630566ea",
            "5b7c279ab3094c969b402485a36c406a",
            "b718e10218914a4f9ae4f26b6b822b0c",
            "6dd7b46b0ab341e78604503f9a9b663f",
            "ade03d81b22a4856904b9b2e0e5da38d"
          ]
        }
      },
      "outputs": [
        {
          "output_type": "display_data",
          "data": {
            "text/plain": [
              "interactive(children=(FloatSlider(value=0.5, description='theta1', max=2.0, min=-2.0), FloatSlider(value=-0.5,…"
            ],
            "application/vnd.jupyter.widget-view+json": {
              "version_major": 2,
              "version_minor": 0,
              "model_id": "1759ad314a794c64af5bea8e5e62a3f6"
            }
          },
          "metadata": {}
        }
      ],
      "source": [
        "def plot_data(theta1=0.5, theta2=-0.5):\n",
        "    theta = np.array([theta1, theta2])\n",
        "    x = two_moons_sbi(theta, n_samples=200)\n",
        "\n",
        "    plt.figure(figsize=(4, 4))\n",
        "    plt.scatter(x[:, 0], x[:, 1], s=5)\n",
        "    plt.xlim(-3, 3); plt.ylim(-3, 3)\n",
        "    plt.grid(True)\n",
        "\n",
        "# Create interactive sliders\n",
        "theta1_slider = FloatSlider(value=0.5, min=-2.0, max=2.0, step=0.1, description='theta1')\n",
        "theta2_slider = FloatSlider(value=-0.5, min=-2.0, max=2.0, step=0.1, description='theta2')\n",
        "\n",
        "interact(plot_data, theta1=theta1_slider, theta2=theta2_slider);\n"
      ]
    },
    {
      "cell_type": "markdown",
      "metadata": {
        "id": "-ZTNAHt1sM43"
      },
      "source": [
        "> **Task 1.1** Where are the two moons?  \n",
        "(Hint: how does the data look like when you simulate with $\\theta$ is $(\\theta_1, \\theta_2)$, and $(-\\theta_2, -\\theta_1)$ ?)"
      ]
    },
    {
      "cell_type": "code",
      "execution_count": 15,
      "metadata": {
        "id": "z9A6a_RpsM43",
        "outputId": "859688d7-cf4e-42a7-8ca1-984f08bfd6fb",
        "colab": {
          "base_uri": "https://localhost:8080/",
          "height": 374
        }
      },
      "outputs": [
        {
          "output_type": "display_data",
          "data": {
            "text/plain": [
              "<Figure size 400x400 with 1 Axes>"
            ],
            "image/png": "[encoded data removed]"
          },
          "metadata": {}
        }
      ],
      "source": [
        "plt.figure(figsize=[4, 4])\n",
        "# UNCOMMENT AND FILL IN THE CODE BELOW!\n",
        "plt.scatter(*two_moons_sbi([0.5,0.3]).T)\n",
        "plt.scatter(*two_moons_sbi([-0.3,-0.5]).T)\n",
        "\n",
        "plt.xlim(-3, 3); plt.ylim(-3, 3)\n",
        "plt.grid(True)\n",
        "\n",
        "\n",
        "\n"
      ]
    },
    {
      "cell_type": "code",
      "source": [
        "plt.figure(figsize=[4, 4])\n",
        "# UNCOMMENT AND FILL IN THE CODE BELOW!\n",
        "plt.scatter(*two_moons_sbi([0,0.3]).T)\n",
        "plt.scatter(*two_moons_sbi([0,0]).T)\n",
        "\n",
        "plt.xlim(-3, 3); plt.ylim(-3, 3)\n",
        "plt.grid(True)"
      ],
      "metadata": {
        "id": "ci0ThcQ-yglt",
        "outputId": "bf6dfb16-8a80-4f5a-87fb-68e57944cbef",
        "colab": {
          "base_uri": "https://localhost:8080/",
          "height": 374
        }
      },
      "execution_count": 20,
      "outputs": [
        {
          "output_type": "display_data",
          "data": {
            "text/plain": [
              "<Figure size 400x400 with 1 Axes>"
            ],
            "image/png": "[encoded data removed]"
          },
          "metadata": {}
        }
      ]
    },
    {
      "cell_type": "markdown",
      "metadata": {
        "id": "xWvotPHisM44"
      },
      "source": [
        "Play around with the simulator below to get a sense of the posterior distribution for a single observation here shown as a red star. By playing around with the theta you should (hopefully) uncover the two moons in the posterior!"
      ]
    },
    {
      "cell_type": "code",
      "execution_count": 26,
      "metadata": {
        "id": "-v41wiKgsM44",
        "outputId": "26ac3422-5321-42db-967e-88ed1e7e6ec4",
        "colab": {
          "base_uri": "https://localhost:8080/",
          "height": 471,
          "referenced_widgets": [
            "692703ca22354a99b9d4ff4f201cdfb0",
            "4781ef3e8ad647d69c7243fa4b2b6076",
            "d7e4b56b5fe3431d8866c696d0d14817",
            "5b653a0b976f4182b6815912c403fa8d",
            "11cfb26a4cbe45bfb81d1736fde4a0f4",
            "f00e1d05034d47628c9376b397079662",
            "e766e475a2fb483e923b00bca9336225",
            "378a41dc94514264b3b0aa0a30702953",
            "23e489abe9fa4aa191088d290070136e",
            "3b789a1786a84274af8fa1aadca416e7"
          ]
        }
      },
      "outputs": [
        {
          "output_type": "display_data",
          "data": {
            "text/plain": [
              "interactive(children=(FloatSlider(value=0.5, description='theta_1', max=2.0, min=-2.0), FloatSlider(value=0.5,…"
            ],
            "application/vnd.jupyter.widget-view+json": {
              "version_major": 2,
              "version_minor": 0,
              "model_id": "692703ca22354a99b9d4ff4f201cdfb0"
            }
          },
          "metadata": {}
        }
      ],
      "source": [
        "# We'll define a global list to hold our \"accepted\" parameter values\n",
        "accepted_params = []\n",
        "\n",
        "def update_plots(theta1=0.0, theta2=0.0):\n",
        "    \"\"\"\n",
        "    For the given (theta1, theta2):\n",
        "    1) Generate data and plot it in the data space.\n",
        "    2) Check if x_obs is within threshold distance of any point in that data.\n",
        "       If yes, record (theta1, theta2) in a global list.\n",
        "    3) Plot the \"accepted\" parameter list so far in the parameter space.\n",
        "    \"\"\"\n",
        "    global accepted_params\n",
        "\n",
        "    x_obs = np.array([0.0, 0.0])\n",
        "    threshold = 0.2   # acceptance threshold for \"close enough\"\n",
        "    col = 'C0' # Let's change color of samples when there is a match!\n",
        "\n",
        "    # Generate data from user specified theta\n",
        "    theta = np.array([theta1, theta2])\n",
        "    x_sim = two_moons_sbi(theta, n_samples=20)\n",
        "\n",
        "    # Check if any of the points in x_sim lie close enough to x_obs\n",
        "    # We'll measure Euclidean distance from each simulated point to x_obs\n",
        "    distances = np.linalg.norm(x_sim - x_obs, axis=1)\n",
        "    if np.any(distances < threshold):\n",
        "        accepted_params.append(theta)\n",
        "        accepted_params.append(np.array([-theta2, -theta1]))\n",
        "        col='C1'\n",
        "    else:\n",
        "        col='C0'\n",
        "\n",
        "    # Plot the results\n",
        "    fig, axes = plt.subplots(1, 2, figsize=(8, 4))\n",
        "\n",
        "    # Data space\n",
        "    axes[0].scatter(*x_sim.T, color=col, alpha=0.6, label=\"Simulated data\")\n",
        "\n",
        "    # Parameter space\n",
        "    axes[1].plot(theta1, theta2, 'rx', markersize=8, label=r\"Current $\\theta$\")\n",
        "    if len(accepted_params) > 0:\n",
        "        axes[1].scatter(*np.array(accepted_params).T, alpha=0.3, label=r\"$x_{obs} \\mid \\theta$\")\n",
        "\n",
        "    # Prettify\n",
        "    axes[0].set_title('Data space')\n",
        "    axes[0].plot(0, 0, 'r*', markersize=10, label=r\"$x_{obs} = [0,0]$\")\n",
        "    axes[0].set_xlim(-3, 3); axes[0].set_ylim(-3, 3); axes[0].grid(True)\n",
        "    axes[0].legend()\n",
        "    axes[1].set_title(\"Parameter Space\")\n",
        "    axes[1].set_xlabel(r\"$\\theta_1$\"); axes[1].set_ylabel(r\"$\\theta_2$\")\n",
        "    axes[1].set_xlim(-2.0, 2.0); axes[1].set_ylim(-2.0, 2.0)\n",
        "    axes[1].legend()\n",
        "    plt.tight_layout()\n",
        "    plt.show()\n",
        "\n",
        "# Create sliders for theta1 and theta2\n",
        "theta1_slider = FloatSlider(value=0.5, min=-2.0, max=2.0, step=0.1, description='theta_1')\n",
        "theta2_slider = FloatSlider(value=0.5, min=-2.0, max=2.0, step=0.1, description='theta_2')\n",
        "\n",
        "interact(update_plots, theta1=theta1_slider, theta2=theta2_slider);"
      ]
    },
    {
      "cell_type": "markdown",
      "metadata": {
        "id": "6qHnUMeFsM44"
      },
      "source": [
        "Oh, btw, you basically did simulation based inference :)\n",
        "\n",
        "But let's take a step back. Given we have an observation $x_{\\text{obs}}$ from this data generating process, how can we infer the parameters $\\theta$ that could have generated it?"
      ]
    },
    {
      "cell_type": "markdown",
      "metadata": {
        "id": "R3uohfnxsM44"
      },
      "source": [
        "**Bonus: Can we get an exact likelihood?**\n",
        "\n",
        "Even in this simple “two-moons” simulator, the closed-form likelihood $p(x\\mid\\theta)$ is nontrivial to write down. Here’s the basic idea - our simulator draws:\n",
        "$$\n",
        "\\alpha \\sim \\mathbf{U}\\bigl(-\\tfrac{\\pi}{2}, \\tfrac{\\pi}{2}\\bigr),\n",
        "\\quad\n",
        "r \\sim \\mathbf{N}(0, \\sigma^2),\n",
        "$$\n",
        "and maps $(\\alpha, r)$ to a data point $x$ via:\n",
        "$$\n",
        "x_1 = r \\cos(\\alpha) + 0.25 - \\dfrac{|\\theta_1 + \\theta_2|}{\\sqrt{2}},\n",
        "\\quad\n",
        "x_2 = r \\sin(\\alpha) + \\dfrac{\\theta_2 - \\theta_1}{\\sqrt{2}}.\n",
        "$$\n",
        "\n",
        "This means that we can use the **change of variables formula** to go from $(\\alpha, r) \\to x$. That is, we can write the density of $x$ as\n",
        "$$\n",
        "p(x \\mid \\theta) \\propto ~ p(\\alpha) ~ p(r) ~ \\left| \\dfrac{d(\\alpha, r)}{d(x_1, x_2)} \\right|\n",
        "$$\n",
        "\n",
        "> **Optional Task 1.2:** derive a simplified expression for the likelihood.\n",
        "\n",
        "In larger or more realistic simulators (with more dimensions, complicated physics, etc.), deriving such an expression by hand may be **extremely** difficult or effectively impossible. **This** is why we turn to likelihood-free methods—like **Approximate Bayesian Computation** or **Neural Simulation-Based Inference**—which avoid having to evaluate $p(x\\mid\\theta)$ directly.\n"
      ]
    },
    {
      "cell_type": "markdown",
      "metadata": {
        "id": "-JBW3LUcsM44"
      },
      "source": [
        "### **Approximate Bayesian Computation (ABC)**\n",
        "\n",
        "Approximate Bayesian Computation (ABC) is a class of inference methods designed for settings where the likelihood function $p(x \\mid \\theta)$ is *intractable*—but we can still **simulate** from it. The basic idea is this -- simulators let us verify _whether_ a particular $\\theta$ could have generated an observed $x_{obs}$! If we simulate _A LOT_ of $\\theta$'s, then we can use the sampled $x$'s to _infer_ the posterior distribution!\n",
        "\n",
        "**Ingredients list**\n",
        "\n",
        "- A prior distribution $p(\\theta)$: We can sample from this to generate candidate parameter values.\n",
        "- A simulator: Given $\\theta$, we simulate synthetic data $x_{\\text{sim}} \\sim p(x \\mid \\theta)$.\n",
        "- A distance function $d(x_{\\text{sim}}, x_{\\text{obs}})$: Measures how close the simulated data is to the observed data.\n",
        "- A threshold $\\varepsilon$: Determines how \"close\" is close enough.\n",
        "\n",
        "**The Basic ABC Algorithm**\n",
        "\n",
        "Repeat until you have $N$ accepted samples:\n",
        "1. Sample $\\theta^* \\sim p(\\theta)$ from the prior.\n",
        "2. Simulate $x_{\\text{sim}} \\sim p(x \\mid \\theta^*)$ using the simulator.\n",
        "3. If $d(x_{\\text{sim}}, x_{\\text{obs}}) < \\varepsilon$, accept $\\theta^*$ as a posterior sample.\n",
        "\n",
        "The collection of accepted $\\theta$ values approximates the posterior $p(\\theta \\mid x_{\\text{obs}})$."
      ]
    },
    {
      "cell_type": "markdown",
      "metadata": {
        "id": "x8VJQt9tsM44"
      },
      "source": [
        "> **Task 1.3** Based on the algorithm above, complete the following code to run your own ABC inference."
      ]
    },
    {
      "cell_type": "code",
      "execution_count": 40,
      "metadata": {
        "id": "uVgzI6CKsM44"
      },
      "outputs": [],
      "source": [
        "def abc(x_obs, eps=0.1, n_samples=1000):\n",
        "    \"\"\"ABC algorithm for two moons model.\n",
        "\n",
        "    Args:\n",
        "        x_obs (np.ndarray): Observation from the two moons model.\n",
        "        eps (float, optional): Acceptance threshold. Defaults to 0.1.\n",
        "        n_samples (int, optional): Number of samples after which to stop. Defaults to 1000.\n",
        "\n",
        "    Returns:\n",
        "        np.ndarray: Samples obtained for approximating the posterior p(theta|x_obs).\n",
        "        np.ndarray: Acceptance flag for each sample.\n",
        "    \"\"\"\n",
        "    samples = []\n",
        "    accept_flag = []\n",
        "    n_accepted = sum(accept_flag)\n",
        "    n_sim = 100 # samples to simulate each time\n",
        "\n",
        "    # Make a progress bar to see how quickly we accept\n",
        "    pbar = tqdm(total=n_samples, desc=\"Accepted Samples\", unit=\"samples\")\n",
        "\n",
        "    while sum(accept_flag) < n_samples:\n",
        "        ## TO-DO: Write the code to sample a parameter from the prior,\n",
        "        # simulate data, and compute the distance to the observed data\n",
        "        theta_candidate = np.random.uniform(-2, 2, 2)\n",
        "        x_sim = two_moons_sbi(theta_candidate, n_samples=n_sim)\n",
        "        dist = np.linalg.norm(x_sim - x_obs, axis=1)\n",
        "\n",
        "        # Bookkeeping\n",
        "        samples.append(theta_candidate)\n",
        "\n",
        "        if np.any(dist < eps):\n",
        "            accept_flag.append(1) # bookkeeping accepted thetas\n",
        "            n_accepted += np.sum(dist < eps)\n",
        "            acceptance_ratio = n_accepted / (len(samples) * n_sim)\n",
        "            pbar.update(1)\n",
        "            pbar.set_postfix_str(f\"acceptance_ratio={acceptance_ratio:.3f}\")\n",
        "        else:\n",
        "            accept_flag.append(0)\n",
        "\n",
        "    pbar.close()\n",
        "    return np.array(samples), np.array(accept_flag)"
      ]
    },
    {
      "cell_type": "code",
      "execution_count": 42,
      "metadata": {
        "id": "P9OP2CTjsM45",
        "outputId": "247a83ec-9c78-4ee6-8454-be3a67897c5a",
        "colab": {
          "base_uri": "https://localhost:8080/"
        }
      },
      "outputs": [
        {
          "output_type": "stream",
          "name": "stderr",
          "text": [
            "Accepted Samples: 100%|██████████| 1000/1000 [00:03<00:00, 269.88samples/s, acceptance_ratio=0.004]\n"
          ]
        }
      ],
      "source": [
        "# Verify this runs without any errors!\n",
        "candidates, flags = abc([0, 0])"
      ]
    },
    {
      "cell_type": "markdown",
      "metadata": {
        "id": "-01IOn9JsM45"
      },
      "source": [
        "Let's see ABC in action! Can it compete with how you explored the parameter space previously?"
      ]
    },
    {
      "cell_type": "code",
      "execution_count": 43,
      "metadata": {
        "id": "hh96LKCjsM45",
        "outputId": "ea84f9a7-7489-4f9c-ff33-aa8c1c69a5b9",
        "colab": {
          "base_uri": "https://localhost:8080/",
          "height": 113,
          "referenced_widgets": [
            "db1076877f7242389288afbf52e54885",
            "f7c65c810982461d8d97f429869bb59d",
            "ea2769aca7cb4451bfde2b0414523d63",
            "35e8515bbc0044b480be6ebd3ac57078",
            "adbc49306add464eb25685848bc147da",
            "e6f65e72acc94f97be0a42771ee34b0b",
            "ed1ba86c90d14ccd83e6b7084de1b6b8",
            "454d618e8b3e44ce9605a4e5e267e66c",
            "4500e2f42fcb45e2a59b554fd4d32ebf",
            "7660a72497d84ae6a666e95a9f41055c",
            "3eafe441721a4166bb41c6c1ebb77fd9",
            "98d864ab7e0b434b9c896dff5eb89077",
            "f7c39c939e8f4ba68fb82296a872cd61"
          ]
        }
      },
      "outputs": [
        {
          "output_type": "display_data",
          "data": {
            "text/plain": [
              "interactive(children=(IntSlider(value=50, description='Number of samples to acquire', max=200, min=10, step=10…"
            ],
            "application/vnd.jupyter.widget-view+json": {
              "version_major": 2,
              "version_minor": 0,
              "model_id": "db1076877f7242389288afbf52e54885"
            }
          },
          "metadata": {}
        }
      ],
      "source": [
        "from IPython.display import clear_output\n",
        "global_accepted_samples = []\n",
        "\n",
        "def run_abc(n_samples=100, eps=0.1):\n",
        "    \"\"\"\n",
        "    Each time run_interact is pressed:\n",
        "    1. Run ABC to get n_samples new samples.\n",
        "    2. Display them one by one on the plot, maintaining history of all previous runs.\n",
        "    \"\"\"\n",
        "    global global_accepted_samples\n",
        "\n",
        "    # Run ABC with a single observed point [0,0]\n",
        "    samples, accept_flag = abc(np.array([0.0, 0.0]), eps, n_samples)\n",
        "\n",
        "    # Show new samples one-by-one\n",
        "    for i, sample in enumerate(samples):\n",
        "        fig, ax = plt.subplots(1, 1, figsize=(4, 4))\n",
        "\n",
        "        # First plot all previously accepted samples\n",
        "        if global_accepted_samples:\n",
        "            ax.scatter(*np.array(global_accepted_samples).T, alpha=0.6, label='Previous samples')\n",
        "\n",
        "        # Plot current sample\n",
        "        ax.plot(sample[0], sample[1], 'rx', markersize=10, label='Current sample')\n",
        "\n",
        "        # If accepted, add to plot and global list\n",
        "        if accept_flag[i] == 1:\n",
        "            global_accepted_samples.append(sample)\n",
        "            ax.scatter(sample[0], sample[1], alpha=0.6)\n",
        "\n",
        "        # Prettify\n",
        "        ax.set_xlim(-2, 2); ax.set_ylim(-2, 2)\n",
        "        ax.set_xlabel(r'$\\theta_1$'); ax.set_ylabel(r'$\\theta_2$')\n",
        "        ax.set_title(f\"ABC Posterior Samples\")\n",
        "\n",
        "        clear_output(wait=True)\n",
        "        plt.show()\n",
        "        # plt.pause(0.005)  # Small pause for visualization\n",
        "\n",
        "samples_slider = IntSlider(value=50, min=10, max=200, step=10, description='Number of samples to acquire')\n",
        "eps_slider = FloatSlider(value=0.2, min=0.1, max=1, step=0.1, description='Acceptance threshold')\n",
        "\n",
        "interact_manual(run_abc, n_samples=samples_slider, eps=eps_slider);"
      ]
    },
    {
      "cell_type": "code",
      "execution_count": 37,
      "metadata": {
        "id": "JPt5ryiksM45",
        "outputId": "fdb27887-afd7-4643-f254-dfb702d83261",
        "colab": {
          "base_uri": "https://localhost:8080/",
          "height": 556
        }
      },
      "outputs": [
        {
          "output_type": "stream",
          "name": "stderr",
          "text": [
            "Accepted Samples: 100%|██████████| 200/200 [00:00<00:00, 280.61samples/s, acceptance_ratio=0.004]\n",
            "WARNING:root:Too few points to create valid contours\n"
          ]
        },
        {
          "output_type": "display_data",
          "data": {
            "text/plain": [
              "<Figure size 550x550 with 4 Axes>"
            ],
            "image/png": "[encoded data removed]"
          },
          "metadata": {}
        }
      ],
      "source": [
        "# Plot the posterior distribution using corner\n",
        "samples, accept_flag = abc([0, 0])\n",
        "figure = corner.corner(samples[accept_flag==1], labels=['theta1', 'theta2'])"
      ]
    },
    {
      "cell_type": "markdown",
      "metadata": {
        "id": "xp64rBjRsM45"
      },
      "source": [
        "> **Task 1.4 Discuss with your neighbour**\n",
        "1. How does the inference (the approximate posterior distribution) depend on the number of samples in ABC?\n",
        "2. How does changing epsilon threshold affect the posterior?\n",
        "3. Here, we have performed inference for a single observation. What happens when we have multiple $x_{obs}$? Do you think ABC scales well?"
      ]
    },
    {
      "cell_type": "markdown",
      "metadata": {
        "id": "A_2jidbHsM45"
      },
      "source": [
        "### Outro\n",
        "\n",
        "While ABC is very simple and elegant, it can be quite inefficient in high dimensions, or when choosing the right distance metric or threshold is hard. These limitations motivate more scalable approaches like **Neural Simulation-Based Inference (Neural SBI)**, which we will cover next.\n",
        "\n",
        "Click below to open the notebook in a new window.\n",
        "\n",
        "[![Open In Colab](https://colab.research.google.com/assets/colab-badge.svg)](https://colab.research.google.com/github/pranavm19/SBI-Tutorial/blob/main/notebooks/02_NFlows.ipynb)"
      ]
    }
  ],
  "metadata": {
    "kernelspec": {
      "display_name": ".venv",
      "language": "python",
      "name": "python3"
    },
    "language_info": {
      "codemirror_mode": {
        "name": "ipython",
        "version": 3
      },
      "file_extension": ".py",
      "mimetype": "text/x-python",
      "name": "python",
      "nbconvert_exporter": "python",
      "pygments_lexer": "ipython3",
      "version": "3.10.16"
    },
    "colab": {
      "provenance": []
    },
    "widgets": {
      "application/vnd.jupyter.widget-state+json": {
        "1759ad314a794c64af5bea8e5e62a3f6": {
          "model_module": "@jupyter-widgets/controls",
          "model_name": "VBoxModel",
          "model_module_version": "1.5.0",
          "state": {
            "_dom_classes": [
              "widget-interact"
            ],
            "_model_module": "@jupyter-widgets/controls",
            "_model_module_version": "1.5.0",
            "_model_name": "VBoxModel",
            "_view_count": null,
            "_view_module": "@jupyter-widgets/controls",
            "_view_module_version": "1.5.0",
            "_view_name": "VBoxView",
            "box_style": "",
            "children": [
              "IPY_MODEL_dd4695a6e532415991c704f8e2c80b7a",
              "IPY_MODEL_a06659f34ed2419894c0b98f64e337c3",
              "IPY_MODEL_4321d772c0764a74acbaa7509b761ffb"
            ],
            "layout": "IPY_MODEL_2cf3ceeeff704ca9b9d3372592750233"
          }
        },
        "dd4695a6e532415991c704f8e2c80b7a": {
          "model_module": "@jupyter-widgets/controls",
          "model_name": "FloatSliderModel",
          "model_module_version": "1.5.0",
          "state": {
            "_dom_classes": [],
            "_model_module": "@jupyter-widgets/controls",
            "_model_module_version": "1.5.0",
            "_model_name": "FloatSliderModel",
            "_view_count": null,
            "_view_module": "@jupyter-widgets/controls",
            "_view_module_version": "1.5.0",
            "_view_name": "FloatSliderView",
            "continuous_update": true,
            "description": "theta1",
            "description_tooltip": null,
            "disabled": false,
            "layout": "IPY_MODEL_584536f0768c4756b95b41f6630566ea",
            "max": 2,
            "min": -2,
            "orientation": "horizontal",
            "readout": true,
            "readout_format": ".2f",
            "step": 0.1,
            "style": "IPY_MODEL_5b7c279ab3094c969b402485a36c406a",
            "value": -2
          }
        },
        "a06659f34ed2419894c0b98f64e337c3": {
          "model_module": "@jupyter-widgets/controls",
          "model_name": "FloatSliderModel",
          "model_module_version": "1.5.0",
          "state": {
            "_dom_classes": [],
            "_model_module": "@jupyter-widgets/controls",
            "_model_module_version": "1.5.0",
            "_model_name": "FloatSliderModel",
            "_view_count": null,
            "_view_module": "@jupyter-widgets/controls",
            "_view_module_version": "1.5.0",
            "_view_name": "FloatSliderView",
            "continuous_update": true,
            "description": "theta2",
            "description_tooltip": null,
            "disabled": false,
            "layout": "IPY_MODEL_b718e10218914a4f9ae4f26b6b822b0c",
            "max": 2,
            "min": -2,
            "orientation": "horizontal",
            "readout": true,
            "readout_format": ".2f",
            "step": 0.1,
            "style": "IPY_MODEL_6dd7b46b0ab341e78604503f9a9b663f",
            "value": -2
          }
        },
        "4321d772c0764a74acbaa7509b761ffb": {
          "model_module": "@jupyter-widgets/output",
          "model_name": "OutputModel",
          "model_module_version": "1.0.0",
          "state": {
            "_dom_classes": [],
            "_model_module": "@jupyter-widgets/output",
            "_model_module_version": "1.0.0",
            "_model_name": "OutputModel",
            "_view_count": null,
            "_view_module": "@jupyter-widgets/output",
            "_view_module_version": "1.0.0",
            "_view_name": "OutputView",
            "layout": "IPY_MODEL_ade03d81b22a4856904b9b2e0e5da38d",
            "msg_id": "",
            "outputs": [
              {
                "output_type": "display_data",
                "data": {
                  "text/plain": "<Figure size 400x400 with 1 Axes>",
                  "image/png": "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\n"
                },
                "metadata": {}
              }
            ]
          }
        },
        "2cf3ceeeff704ca9b9d3372592750233": {
          "model_module": "@jupyter-widgets/base",
          "model_name": "LayoutModel",
          "model_module_version": "1.2.0",
          "state": {
            "_model_module": "@jupyter-widgets/base",
            "_model_module_version": "1.2.0",
            "_model_name": "LayoutModel",
            "_view_count": null,
            "_view_module": "@jupyter-widgets/base",
            "_view_module_version": "1.2.0",
            "_view_name": "LayoutView",
            "align_content": null,
            "align_items": null,
            "align_self": null,
            "border": null,
            "bottom": null,
            "display": null,
            "flex": null,
            "flex_flow": null,
            "grid_area": null,
            "grid_auto_columns": null,
            "grid_auto_flow": null,
            "grid_auto_rows": null,
            "grid_column": null,
            "grid_gap": null,
            "grid_row": null,
            "grid_template_areas": null,
            "grid_template_columns": null,
            "grid_template_rows": null,
            "height": null,
            "justify_content": null,
            "justify_items": null,
            "left": null,
            "margin": null,
            "max_height": null,
            "max_width": null,
            "min_height": null,
            "min_width": null,
            "object_fit": null,
            "object_position": null,
            "order": null,
            "overflow": null,
            "overflow_x": null,
            "overflow_y": null,
            "padding": null,
            "right": null,
            "top": null,
            "visibility": null,
            "width": null
          }
        },
        "584536f0768c4756b95b41f6630566ea": {
          "model_module": "@jupyter-widgets/base",
          "model_name": "LayoutModel",
          "model_module_version": "1.2.0",
          "state": {
            "_model_module": "@jupyter-widgets/base",
            "_model_module_version": "1.2.0",
            "_model_name": "LayoutModel",
            "_view_count": null,
            "_view_module": "@jupyter-widgets/base",
            "_view_module_version": "1.2.0",
            "_view_name": "LayoutView",
            "align_content": null,
            "align_items": null,
            "align_self": null,
            "border": null,
            "bottom": null,
            "display": null,
            "flex": null,
            "flex_flow": null,
            "grid_area": null,
            "grid_auto_columns": null,
            "grid_auto_flow": null,
            "grid_auto_rows": null,
            "grid_column": null,
            "grid_gap": null,
            "grid_row": null,
            "grid_template_areas": null,
            "grid_template_columns": null,
            "grid_template_rows": null,
            "height": null,
            "justify_content": null,
            "justify_items": null,
            "left": null,
            "margin": null,
            "max_height": null,
            "max_width": null,
            "min_height": null,
            "min_width": null,
            "object_fit": null,
            "object_position": null,
            "order": null,
            "overflow": null,
            "overflow_x": null,
            "overflow_y": null,
            "padding": null,
            "right": null,
            "top": null,
            "visibility": null,
            "width": null
          }
        },
        "5b7c279ab3094c969b402485a36c406a": {
          "model_module": "@jupyter-widgets/controls",
          "model_name": "SliderStyleModel",
          "model_module_version": "1.5.0",
          "state": {
            "_model_module": "@jupyter-widgets/controls",
            "_model_module_version": "1.5.0",
            "_model_name": "SliderStyleModel",
            "_view_count": null,
            "_view_module": "@jupyter-widgets/base",
            "_view_module_version": "1.2.0",
            "_view_name": "StyleView",
            "description_width": "",
            "handle_color": null
          }
        },
        "b718e10218914a4f9ae4f26b6b822b0c": {
          "model_module": "@jupyter-widgets/base",
          "model_name": "LayoutModel",
          "model_module_version": "1.2.0",
          "state": {
            "_model_module": "@jupyter-widgets/base",
            "_model_module_version": "1.2.0",
            "_model_name": "LayoutModel",
            "_view_count": null,
            "_view_module": "@jupyter-widgets/base",
            "_view_module_version": "1.2.0",
            "_view_name": "LayoutView",
            "align_content": null,
            "align_items": null,
            "align_self": null,
            "border": null,
            "bottom": null,
            "display": null,
            "flex": null,
            "flex_flow": null,
            "grid_area": null,
            "grid_auto_columns": null,
            "grid_auto_flow": null,
            "grid_auto_rows": null,
            "grid_column": null,
            "grid_gap": null,
            "grid_row": null,
            "grid_template_areas": null,
            "grid_template_columns": null,
            "grid_template_rows": null,
            "height": null,
            "justify_content": null,
            "justify_items": null,
            "left": null,
            "margin": null,
            "max_height": null,
            "max_width": null,
            "min_height": null,
            "min_width": null,
            "object_fit": null,
            "object_position": null,
            "order": null,
            "overflow": null,
            "overflow_x": null,
            "overflow_y": null,
            "padding": null,
            "right": null,
            "top": null,
            "visibility": null,
            "width": null
          }
        },
        "6dd7b46b0ab341e78604503f9a9b663f": {
          "model_module": "@jupyter-widgets/controls",
          "model_name": "SliderStyleModel",
          "model_module_version": "1.5.0",
          "state": {
            "_model_module": "@jupyter-widgets/controls",
            "_model_module_version": "1.5.0",
            "_model_name": "SliderStyleModel",
            "_view_count": null,
            "_view_module": "@jupyter-widgets/base",
            "_view_module_version": "1.2.0",
            "_view_name": "StyleView",
            "description_width": "",
            "handle_color": null
          }
        },
        "ade03d81b22a4856904b9b2e0e5da38d": {
          "model_module": "@jupyter-widgets/base",
          "model_name": "LayoutModel",
          "model_module_version": "1.2.0",
          "state": {
            "_model_module": "@jupyter-widgets/base",
            "_model_module_version": "1.2.0",
            "_model_name": "LayoutModel",
            "_view_count": null,
            "_view_module": "@jupyter-widgets/base",
            "_view_module_version": "1.2.0",
            "_view_name": "LayoutView",
            "align_content": null,
            "align_items": null,
            "align_self": null,
            "border": null,
            "bottom": null,
            "display": null,
            "flex": null,
            "flex_flow": null,
            "grid_area": null,
            "grid_auto_columns": null,
            "grid_auto_flow": null,
            "grid_auto_rows": null,
            "grid_column": null,
            "grid_gap": null,
            "grid_row": null,
            "grid_template_areas": null,
            "grid_template_columns": null,
            "grid_template_rows": null,
            "height": null,
            "justify_content": null,
            "justify_items": null,
            "left": null,
            "margin": null,
            "max_height": null,
            "max_width": null,
            "min_height": null,
            "min_width": null,
            "object_fit": null,
            "object_position": null,
            "order": null,
            "overflow": null,
            "overflow_x": null,
            "overflow_y": null,
            "padding": null,
            "right": null,
            "top": null,
            "visibility": null,
            "width": null
          }
        },
        "692703ca22354a99b9d4ff4f201cdfb0": {
          "model_module": "@jupyter-widgets/controls",
          "model_name": "VBoxModel",
          "model_module_version": "1.5.0",
          "state": {
            "_dom_classes": [
              "widget-interact"
            ],
            "_model_module": "@jupyter-widgets/controls",
            "_model_module_version": "1.5.0",
            "_model_name": "VBoxModel",
            "_view_count": null,
            "_view_module": "@jupyter-widgets/controls",
            "_view_module_version": "1.5.0",
            "_view_name": "VBoxView",
            "box_style": "",
            "children": [
              "IPY_MODEL_4781ef3e8ad647d69c7243fa4b2b6076",
              "IPY_MODEL_d7e4b56b5fe3431d8866c696d0d14817",
              "IPY_MODEL_5b653a0b976f4182b6815912c403fa8d"
            ],
            "layout": "IPY_MODEL_11cfb26a4cbe45bfb81d1736fde4a0f4"
          }
        },
        "4781ef3e8ad647d69c7243fa4b2b6076": {
          "model_module": "@jupyter-widgets/controls",
          "model_name": "FloatSliderModel",
          "model_module_version": "1.5.0",
          "state": {
            "_dom_classes": [],
            "_model_module": "@jupyter-widgets/controls",
            "_model_module_version": "1.5.0",
            "_model_name": "FloatSliderModel",
            "_view_count": null,
            "_view_module": "@jupyter-widgets/controls",
            "_view_module_version": "1.5.0",
            "_view_name": "FloatSliderView",
            "continuous_update": true,
            "description": "theta_1",
            "description_tooltip": null,
            "disabled": false,
            "layout": "IPY_MODEL_f00e1d05034d47628c9376b397079662",
            "max": 2,
            "min": -2,
            "orientation": "horizontal",
            "readout": true,
            "readout_format": ".2f",
            "step": 0.1,
            "style": "IPY_MODEL_e766e475a2fb483e923b00bca9336225",
            "value": -0.1
          }
        },
        "d7e4b56b5fe3431d8866c696d0d14817": {
          "model_module": "@jupyter-widgets/controls",
          "model_name": "FloatSliderModel",
          "model_module_version": "1.5.0",
          "state": {
            "_dom_classes": [],
            "_model_module": "@jupyter-widgets/controls",
            "_model_module_version": "1.5.0",
            "_model_name": "FloatSliderModel",
            "_view_count": null,
            "_view_module": "@jupyter-widgets/controls",
            "_view_module_version": "1.5.0",
            "_view_name": "FloatSliderView",
            "continuous_update": true,
            "description": "theta_2",
            "description_tooltip": null,
            "disabled": false,
            "layout": "IPY_MODEL_378a41dc94514264b3b0aa0a30702953",
            "max": 2,
            "min": -2,
            "orientation": "horizontal",
            "readout": true,
            "readout_format": ".2f",
            "step": 0.1,
            "style": "IPY_MODEL_23e489abe9fa4aa191088d290070136e",
            "value": -0.2
          }
        },
        "5b653a0b976f4182b6815912c403fa8d": {
          "model_module": "@jupyter-widgets/output",
          "model_name": "OutputModel",
          "model_module_version": "1.0.0",
          "state": {
            "_dom_classes": [],
            "_model_module": "@jupyter-widgets/output",
            "_model_module_version": "1.0.0",
            "_model_name": "OutputModel",
            "_view_count": null,
            "_view_module": "@jupyter-widgets/output",
            "_view_module_version": "1.0.0",
            "_view_name": "OutputView",
            "layout": "IPY_MODEL_3b789a1786a84274af8fa1aadca416e7",
            "msg_id": "",
            "outputs": [
              {
                "output_type": "display_data",
                "data": {
                  "text/plain": "<Figure size 800x400 with 2 Axes>",
                  "image/png": "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\n"
                },
                "metadata": {}
              }
            ]
          }
        },
        "11cfb26a4cbe45bfb81d1736fde4a0f4": {
          "model_module": "@jupyter-widgets/base",
          "model_name": "LayoutModel",
          "model_module_version": "1.2.0",
          "state": {
            "_model_module": "@jupyter-widgets/base",
            "_model_module_version": "1.2.0",
            "_model_name": "LayoutModel",
            "_view_count": null,
            "_view_module": "@jupyter-widgets/base",
            "_view_module_version": "1.2.0",
            "_view_name": "LayoutView",
            "align_content": null,
            "align_items": null,
            "align_self": null,
            "border": null,
            "bottom": null,
            "display": null,
            "flex": null,
            "flex_flow": null,
            "grid_area": null,
            "grid_auto_columns": null,
            "grid_auto_flow": null,
            "grid_auto_rows": null,
            "grid_column": null,
            "grid_gap": null,
            "grid_row": null,
            "grid_template_areas": null,
            "grid_template_columns": null,
            "grid_template_rows": null,
            "height": null,
            "justify_content": null,
            "justify_items": null,
            "left": null,
            "margin": null,
            "max_height": null,
            "max_width": null,
            "min_height": null,
            "min_width": null,
            "object_fit": null,
            "object_position": null,
            "order": null,
            "overflow": null,
            "overflow_x": null,
            "overflow_y": null,
            "padding": null,
            "right": null,
            "top": null,
            "visibility": null,
            "width": null
          }
        },
        "f00e1d05034d47628c9376b397079662": {
          "model_module": "@jupyter-widgets/base",
          "model_name": "LayoutModel",
          "model_module_version": "1.2.0",
          "state": {
            "_model_module": "@jupyter-widgets/base",
            "_model_module_version": "1.2.0",
            "_model_name": "LayoutModel",
            "_view_count": null,
            "_view_module": "@jupyter-widgets/base",
            "_view_module_version": "1.2.0",
            "_view_name": "LayoutView",
            "align_content": null,
            "align_items": null,
            "align_self": null,
            "border": null,
            "bottom": null,
            "display": null,
            "flex": null,
            "flex_flow": null,
            "grid_area": null,
            "grid_auto_columns": null,
            "grid_auto_flow": null,
            "grid_auto_rows": null,
            "grid_column": null,
            "grid_gap": null,
            "grid_row": null,
            "grid_template_areas": null,
            "grid_template_columns": null,
            "grid_template_rows": null,
            "height": null,
            "justify_content": null,
            "justify_items": null,
            "left": null,
            "margin": null,
            "max_height": null,
            "max_width": null,
            "min_height": null,
            "min_width": null,
            "object_fit": null,
            "object_position": null,
            "order": null,
            "overflow": null,
            "overflow_x": null,
            "overflow_y": null,
            "padding": null,
            "right": null,
            "top": null,
            "visibility": null,
            "width": null
          }
        },
        "e766e475a2fb483e923b00bca9336225": {
          "model_module": "@jupyter-widgets/controls",
          "model_name": "SliderStyleModel",
          "model_module_version": "1.5.0",
          "state": {
            "_model_module": "@jupyter-widgets/controls",
            "_model_module_version": "1.5.0",
            "_model_name": "SliderStyleModel",
            "_view_count": null,
            "_view_module": "@jupyter-widgets/base",
            "_view_module_version": "1.2.0",
            "_view_name": "StyleView",
            "description_width": "",
            "handle_color": null
          }
        },
        "378a41dc94514264b3b0aa0a30702953": {
          "model_module": "@jupyter-widgets/base",
          "model_name": "LayoutModel",
          "model_module_version": "1.2.0",
          "state": {
            "_model_module": "@jupyter-widgets/base",
            "_model_module_version": "1.2.0",
            "_model_name": "LayoutModel",
            "_view_count": null,
            "_view_module": "@jupyter-widgets/base",
            "_view_module_version": "1.2.0",
            "_view_name": "LayoutView",
            "align_content": null,
            "align_items": null,
            "align_self": null,
            "border": null,
            "bottom": null,
            "display": null,
            "flex": null,
            "flex_flow": null,
            "grid_area": null,
            "grid_auto_columns": null,
            "grid_auto_flow": null,
            "grid_auto_rows": null,
            "grid_column": null,
            "grid_gap": null,
            "grid_row": null,
            "grid_template_areas": null,
            "grid_template_columns": null,
            "grid_template_rows": null,
            "height": null,
            "justify_content": null,
            "justify_items": null,
            "left": null,
            "margin": null,
            "max_height": null,
            "max_width": null,
            "min_height": null,
            "min_width": null,
            "object_fit": null,
            "object_position": null,
            "order": null,
            "overflow": null,
            "overflow_x": null,
            "overflow_y": null,
            "padding": null,
            "right": null,
            "top": null,
            "visibility": null,
            "width": null
          }
        },
        "23e489abe9fa4aa191088d290070136e": {
          "model_module": "@jupyter-widgets/controls",
          "model_name": "SliderStyleModel",
          "model_module_version": "1.5.0",
          "state": {
            "_model_module": "@jupyter-widgets/controls",
            "_model_module_version": "1.5.0",
            "_model_name": "SliderStyleModel",
            "_view_count": null,
            "_view_module": "@jupyter-widgets/base",
            "_view_module_version": "1.2.0",
            "_view_name": "StyleView",
            "description_width": "",
            "handle_color": null
          }
        },
        "3b789a1786a84274af8fa1aadca416e7": {
          "model_module": "@jupyter-widgets/base",
          "model_name": "LayoutModel",
          "model_module_version": "1.2.0",
          "state": {
            "_model_module": "@jupyter-widgets/base",
            "_model_module_version": "1.2.0",
            "_model_name": "LayoutModel",
            "_view_count": null,
            "_view_module": "@jupyter-widgets/base",
            "_view_module_version": "1.2.0",
            "_view_name": "LayoutView",
            "align_content": null,
            "align_items": null,
            "align_self": null,
            "border": null,
            "bottom": null,
            "display": null,
            "flex": null,
            "flex_flow": null,
            "grid_area": null,
            "grid_auto_columns": null,
            "grid_auto_flow": null,
            "grid_auto_rows": null,
            "grid_column": null,
            "grid_gap": null,
            "grid_row": null,
            "grid_template_areas": null,
            "grid_template_columns": null,
            "grid_template_rows": null,
            "height": null,
            "justify_content": null,
            "justify_items": null,
            "left": null,
            "margin": null,
            "max_height": null,
            "max_width": null,
            "min_height": null,
            "min_width": null,
            "object_fit": null,
            "object_position": null,
            "order": null,
            "overflow": null,
            "overflow_x": null,
            "overflow_y": null,
            "padding": null,
            "right": null,
            "top": null,
            "visibility": null,
            "width": null
          }
        },
        "db1076877f7242389288afbf52e54885": {
          "model_module": "@jupyter-widgets/controls",
          "model_name": "VBoxModel",
          "model_module_version": "1.5.0",
          "state": {
            "_dom_classes": [
              "widget-interact"
            ],
            "_model_module": "@jupyter-widgets/controls",
            "_model_module_version": "1.5.0",
            "_model_name": "VBoxModel",
            "_view_count": null,
            "_view_module": "@jupyter-widgets/controls",
            "_view_module_version": "1.5.0",
            "_view_name": "VBoxView",
            "box_style": "",
            "children": [
              "IPY_MODEL_f7c65c810982461d8d97f429869bb59d",
              "IPY_MODEL_ea2769aca7cb4451bfde2b0414523d63",
              "IPY_MODEL_35e8515bbc0044b480be6ebd3ac57078",
              "IPY_MODEL_adbc49306add464eb25685848bc147da"
            ],
            "layout": "IPY_MODEL_e6f65e72acc94f97be0a42771ee34b0b"
          }
        },
        "f7c65c810982461d8d97f429869bb59d": {
          "model_module": "@jupyter-widgets/controls",
          "model_name": "IntSliderModel",
          "model_module_version": "1.5.0",
          "state": {
            "_dom_classes": [],
            "_model_module": "@jupyter-widgets/controls",
            "_model_module_version": "1.5.0",
            "_model_name": "IntSliderModel",
            "_view_count": null,
            "_view_module": "@jupyter-widgets/controls",
            "_view_module_version": "1.5.0",
            "_view_name": "IntSliderView",
            "continuous_update": true,
            "description": "Number of samples to acquire",
            "description_tooltip": null,
            "disabled": false,
            "layout": "IPY_MODEL_ed1ba86c90d14ccd83e6b7084de1b6b8",
            "max": 200,
            "min": 10,
            "orientation": "horizontal",
            "readout": true,
            "readout_format": "d",
            "step": 10,
            "style": "IPY_MODEL_454d618e8b3e44ce9605a4e5e267e66c",
            "value": 50
          }
        },
        "ea2769aca7cb4451bfde2b0414523d63": {
          "model_module": "@jupyter-widgets/controls",
          "model_name": "FloatSliderModel",
          "model_module_version": "1.5.0",
          "state": {
            "_dom_classes": [],
            "_model_module": "@jupyter-widgets/controls",
            "_model_module_version": "1.5.0",
            "_model_name": "FloatSliderModel",
            "_view_count": null,
            "_view_module": "@jupyter-widgets/controls",
            "_view_module_version": "1.5.0",
            "_view_name": "FloatSliderView",
            "continuous_update": true,
            "description": "Acceptance threshold",
            "description_tooltip": null,
            "disabled": false,
            "layout": "IPY_MODEL_4500e2f42fcb45e2a59b554fd4d32ebf",
            "max": 1,
            "min": 0.1,
            "orientation": "horizontal",
            "readout": true,
            "readout_format": ".2f",
            "step": 0.1,
            "style": "IPY_MODEL_7660a72497d84ae6a666e95a9f41055c",
            "value": 0.2
          }
        },
        "35e8515bbc0044b480be6ebd3ac57078": {
          "model_module": "@jupyter-widgets/controls",
          "model_name": "ButtonModel",
          "model_module_version": "1.5.0",
          "state": {
            "_dom_classes": [],
            "_model_module": "@jupyter-widgets/controls",
            "_model_module_version": "1.5.0",
            "_model_name": "ButtonModel",
            "_view_count": null,
            "_view_module": "@jupyter-widgets/controls",
            "_view_module_version": "1.5.0",
            "_view_name": "ButtonView",
            "button_style": "",
            "description": "Run Interact",
            "disabled": false,
            "icon": "",
            "layout": "IPY_MODEL_3eafe441721a4166bb41c6c1ebb77fd9",
            "style": "IPY_MODEL_98d864ab7e0b434b9c896dff5eb89077",
            "tooltip": ""
          }
        },
        "adbc49306add464eb25685848bc147da": {
          "model_module": "@jupyter-widgets/output",
          "model_name": "OutputModel",
          "model_module_version": "1.0.0",
          "state": {
            "_dom_classes": [],
            "_model_module": "@jupyter-widgets/output",
            "_model_module_version": "1.0.0",
            "_model_name": "OutputModel",
            "_view_count": null,
            "_view_module": "@jupyter-widgets/output",
            "_view_module_version": "1.0.0",
            "_view_name": "OutputView",
            "layout": "IPY_MODEL_f7c39c939e8f4ba68fb82296a872cd61",
            "msg_id": "",
            "outputs": []
          }
        },
        "e6f65e72acc94f97be0a42771ee34b0b": {
          "model_module": "@jupyter-widgets/base",
          "model_name": "LayoutModel",
          "model_module_version": "1.2.0",
          "state": {
            "_model_module": "@jupyter-widgets/base",
            "_model_module_version": "1.2.0",
            "_model_name": "LayoutModel",
            "_view_count": null,
            "_view_module": "@jupyter-widgets/base",
            "_view_module_version": "1.2.0",
            "_view_name": "LayoutView",
            "align_content": null,
            "align_items": null,
            "align_self": null,
            "border": null,
            "bottom": null,
            "display": null,
            "flex": null,
            "flex_flow": null,
            "grid_area": null,
            "grid_auto_columns": null,
            "grid_auto_flow": null,
            "grid_auto_rows": null,
            "grid_column": null,
            "grid_gap": null,
            "grid_row": null,
            "grid_template_areas": null,
            "grid_template_columns": null,
            "grid_template_rows": null,
            "height": null,
            "justify_content": null,
            "justify_items": null,
            "left": null,
            "margin": null,
            "max_height": null,
            "max_width": null,
            "min_height": null,
            "min_width": null,
            "object_fit": null,
            "object_position": null,
            "order": null,
            "overflow": null,
            "overflow_x": null,
            "overflow_y": null,
            "padding": null,
            "right": null,
            "top": null,
            "visibility": null,
            "width": null
          }
        },
        "ed1ba86c90d14ccd83e6b7084de1b6b8": {
          "model_module": "@jupyter-widgets/base",
          "model_name": "LayoutModel",
          "model_module_version": "1.2.0",
          "state": {
            "_model_module": "@jupyter-widgets/base",
            "_model_module_version": "1.2.0",
            "_model_name": "LayoutModel",
            "_view_count": null,
            "_view_module": "@jupyter-widgets/base",
            "_view_module_version": "1.2.0",
            "_view_name": "LayoutView",
            "align_content": null,
            "align_items": null,
            "align_self": null,
            "border": null,
            "bottom": null,
            "display": null,
            "flex": null,
            "flex_flow": null,
            "grid_area": null,
            "grid_auto_columns": null,
            "grid_auto_flow": null,
            "grid_auto_rows": null,
            "grid_column": null,
            "grid_gap": null,
            "grid_row": null,
            "grid_template_areas": null,
            "grid_template_columns": null,
            "grid_template_rows": null,
            "height": null,
            "justify_content": null,
            "justify_items": null,
            "left": null,
            "margin": null,
            "max_height": null,
            "max_width": null,
            "min_height": null,
            "min_width": null,
            "object_fit": null,
            "object_position": null,
            "order": null,
            "overflow": null,
            "overflow_x": null,
            "overflow_y": null,
            "padding": null,
            "right": null,
            "top": null,
            "visibility": null,
            "width": null
          }
        },
        "454d618e8b3e44ce9605a4e5e267e66c": {
          "model_module": "@jupyter-widgets/controls",
          "model_name": "SliderStyleModel",
          "model_module_version": "1.5.0",
          "state": {
            "_model_module": "@jupyter-widgets/controls",
            "_model_module_version": "1.5.0",
            "_model_name": "SliderStyleModel",
            "_view_count": null,
            "_view_module": "@jupyter-widgets/base",
            "_view_module_version": "1.2.0",
            "_view_name": "StyleView",
            "description_width": "",
            "handle_color": null
          }
        },
        "4500e2f42fcb45e2a59b554fd4d32ebf": {
          "model_module": "@jupyter-widgets/base",
          "model_name": "LayoutModel",
          "model_module_version": "1.2.0",
          "state": {
            "_model_module": "@jupyter-widgets/base",
            "_model_module_version": "1.2.0",
            "_model_name": "LayoutModel",
            "_view_count": null,
            "_view_module": "@jupyter-widgets/base",
            "_view_module_version": "1.2.0",
            "_view_name": "LayoutView",
            "align_content": null,
            "align_items": null,
            "align_self": null,
            "border": null,
            "bottom": null,
            "display": null,
            "flex": null,
            "flex_flow": null,
            "grid_area": null,
            "grid_auto_columns": null,
            "grid_auto_flow": null,
            "grid_auto_rows": null,
            "grid_column": null,
            "grid_gap": null,
            "grid_row": null,
            "grid_template_areas": null,
            "grid_template_columns": null,
            "grid_template_rows": null,
            "height": null,
            "justify_content": null,
            "justify_items": null,
            "left": null,
            "margin": null,
            "max_height": null,
            "max_width": null,
            "min_height": null,
            "min_width": null,
            "object_fit": null,
            "object_position": null,
            "order": null,
            "overflow": null,
            "overflow_x": null,
            "overflow_y": null,
            "padding": null,
            "right": null,
            "top": null,
            "visibility": null,
            "width": null
          }
        },
        "7660a72497d84ae6a666e95a9f41055c": {
          "model_module": "@jupyter-widgets/controls",
          "model_name": "SliderStyleModel",
          "model_module_version": "1.5.0",
          "state": {
            "_model_module": "@jupyter-widgets/controls",
            "_model_module_version": "1.5.0",
            "_model_name": "SliderStyleModel",
            "_view_count": null,
            "_view_module": "@jupyter-widgets/base",
            "_view_module_version": "1.2.0",
            "_view_name": "StyleView",
            "description_width": "",
            "handle_color": null
          }
        },
        "3eafe441721a4166bb41c6c1ebb77fd9": {
          "model_module": "@jupyter-widgets/base",
          "model_name": "LayoutModel",
          "model_module_version": "1.2.0",
          "state": {
            "_model_module": "@jupyter-widgets/base",
            "_model_module_version": "1.2.0",
            "_model_name": "LayoutModel",
            "_view_count": null,
            "_view_module": "@jupyter-widgets/base",
            "_view_module_version": "1.2.0",
            "_view_name": "LayoutView",
            "align_content": null,
            "align_items": null,
            "align_self": null,
            "border": null,
            "bottom": null,
            "display": null,
            "flex": null,
            "flex_flow": null,
            "grid_area": null,
            "grid_auto_columns": null,
            "grid_auto_flow": null,
            "grid_auto_rows": null,
            "grid_column": null,
            "grid_gap": null,
            "grid_row": null,
            "grid_template_areas": null,
            "grid_template_columns": null,
            "grid_template_rows": null,
            "height": null,
            "justify_content": null,
            "justify_items": null,
            "left": null,
            "margin": null,
            "max_height": null,
            "max_width": null,
            "min_height": null,
            "min_width": null,
            "object_fit": null,
            "object_position": null,
            "order": null,
            "overflow": null,
            "overflow_x": null,
            "overflow_y": null,
            "padding": null,
            "right": null,
            "top": null,
            "visibility": null,
            "width": null
          }
        },
        "98d864ab7e0b434b9c896dff5eb89077": {
          "model_module": "@jupyter-widgets/controls",
          "model_name": "ButtonStyleModel",
          "model_module_version": "1.5.0",
          "state": {
            "_model_module": "@jupyter-widgets/controls",
            "_model_module_version": "1.5.0",
            "_model_name": "ButtonStyleModel",
            "_view_count": null,
            "_view_module": "@jupyter-widgets/base",
            "_view_module_version": "1.2.0",
            "_view_name": "StyleView",
            "button_color": null,
            "font_weight": ""
          }
        },
        "f7c39c939e8f4ba68fb82296a872cd61": {
          "model_module": "@jupyter-widgets/base",
          "model_name": "LayoutModel",
          "model_module_version": "1.2.0",
          "state": {
            "_model_module": "@jupyter-widgets/base",
            "_model_module_version": "1.2.0",
            "_model_name": "LayoutModel",
            "_view_count": null,
            "_view_module": "@jupyter-widgets/base",
            "_view_module_version": "1.2.0",
            "_view_name": "LayoutView",
            "align_content": null,
            "align_items": null,
            "align_self": null,
            "border": null,
            "bottom": null,
            "display": null,
            "flex": null,
            "flex_flow": null,
            "grid_area": null,
            "grid_auto_columns": null,
            "grid_auto_flow": null,
            "grid_auto_rows": null,
            "grid_column": null,
            "grid_gap": null,
            "grid_row": null,
            "grid_template_areas": null,
            "grid_template_columns": null,
            "grid_template_rows": null,
            "height": null,
            "justify_content": null,
            "justify_items": null,
            "left": null,
            "margin": null,
            "max_height": null,
            "max_width": null,
            "min_height": null,
            "min_width": null,
            "object_fit": null,
            "object_position": null,
            "order": null,
            "overflow": null,
            "overflow_x": null,
            "overflow_y": null,
            "padding": null,
            "right": null,
            "top": null,
            "visibility": null,
            "width": null
          }
        }
      }
    }
  },
  "nbformat": 4,
  "nbformat_minor": 0
}