{
 "cells": [
  {
   "cell_type": "markdown",
   "metadata": {},
   "source": [
    "[![Open In Colab](https://colab.research.google.com/assets/colab-badge.svg)](https://colab.research.google.com/github/pranavm19/SBI-Tutorial/blob/main/notebooks/03_NFlows_BioMime.ipynb)"
   ]
  },
  {
   "cell_type": "markdown",
   "metadata": {},
   "source": [
    "## Applying SBI to Motor Unit Physiology\n",
    "**Pranav Mamidanna, PhD** (p.mamidanna22@imperial.ac.uk), April 2025\n",
    "\n",
    "In this notebook, we will apply the concepts learned in the previous tutorials to a real-world problem in motor unit physiology. We will use the BioMime model, which simulates motor unit action potentials (MUAPs) based on six physiological parameters:\n",
    "\n",
    "1. Fiber Density (FD)\n",
    "2. Depth (D)\n",
    "3. Angle (A)\n",
    "4. Innervation Zone (IZ)\n",
    "5. Conduction Velocity (CV)\n",
    "6. Fiber Length (FL)\n",
    "\n",
    "Our goal is to use SBI to estimate these parameters from observed MUAP data. This is particularly challenging because:\n",
    "1. The relationship between parameters and MUAPs is highly non-linear\n",
    "2. The parameter space is 6-dimensional"
   ]
  },
  {
   "cell_type": "code",
   "execution_count": null,
   "metadata": {},
   "outputs": [],
   "source": [
    "# # Uncomment and run the following in your colab env\n",
    "# !pip install git+https://github.com/shihan-ma/BioMime.git\n",
    "# !gdown 1RIYnYxLkBZ9_7MJQgQBSjAk_oXBTqY0b -O model_linear.pth"
   ]
  },
  {
   "cell_type": "code",
   "execution_count": 1,
   "metadata": {},
   "outputs": [],
   "source": [
    "import torch\n",
    "import numpy as np\n",
    "import matplotlib.pyplot as plt\n",
    "import seaborn as sns\n",
    "from ipywidgets import interact_manual, FloatSlider\n",
    "\n",
    "import BioMime.utils.basics as bm_basics\n",
    "import BioMime.models.generator as bm_gen"
   ]
  },
  {
   "cell_type": "code",
   "execution_count": 2,
   "metadata": {},
   "outputs": [],
   "source": [
    "device = torch.device(\"cuda:0\" if torch.cuda.is_available() else \"cpu\")\n",
    "config = bm_basics.update_config('../data/config.yaml')\n",
    "\n",
    "def initialize_generator(model_path):\n",
    "    generator = bm_gen.Generator(config.Model.Generator)\n",
    "    generator = bm_basics.load_generator(model_path, generator, 'cpu')\n",
    "    return generator\n",
    "\n",
    "def sample_biomime(generator, pars):\n",
    "    if pars.ndim == 1:\n",
    "        pars = pars[None, :]\n",
    "\n",
    "    n_MU = pars.shape[0]\n",
    "    sim_muaps = [generator.sample(n_MU, pars.to(device).float(), pars.to(device)).to(\"cpu\") for _ in range(10)]\n",
    "    muap = torch.stack(sim_muaps).mean(0)\n",
    "    \n",
    "    return muap.flatten()\n",
    "\n",
    "# Initialize the generators\n",
    "BIOMIME6 = initialize_generator('../data/model_linear.pth')\n",
    "\n",
    "# Define simulators\n",
    "def simulator_biomime6(pars):\n",
    "    return sample_biomime(BIOMIME6, pars)"
   ]
  },
  {
   "cell_type": "code",
   "execution_count": 3,
   "metadata": {},
   "outputs": [],
   "source": [
    "def plot_muap(muap, overlap=False):\n",
    "    \"\"\"\n",
    "    Plot sEMG MUAP with minimal axis style.\n",
    "\n",
    "    Parameters\n",
    "    ----------\n",
    "    muap : np.ndarray\n",
    "        (Average) MUAP of shape [n_row, n_col, n_time], units: mV.\n",
    "    overlap : bool\n",
    "        Whether rows of the MUAP should overlap.\n",
    "    \"\"\"\n",
    "    n_row, n_col, n_time = muap.shape\n",
    "\n",
    "    # Create figure\n",
    "    plt.close('all')\n",
    "    _, ax = plt.subplots(figsize=[int(n_col*0.6), 6])\n",
    "    \n",
    "    # Reshape for plotting\n",
    "    row_space = np.max(np.abs(muap)) * 1.5\n",
    "    col_space = np.zeros((n_row, n_col, int(n_time/2))) * np.nan\n",
    "    plotable = np.dstack((muap, col_space)).reshape([n_row, -1])\n",
    "    plotable -= np.linspace(0, n_row-1, n_row)[:, None] * row_space\n",
    "\n",
    "    # Plot\n",
    "    ax.plot(plotable.T, linewidth=0.5, color='k')\n",
    "    ax.axis('off')\n",
    "\n",
    "    # Get data range for scaling\n",
    "    min_y = np.nanmin(plotable)\n",
    "    y_range = np.ptp(muap.reshape((n_row*n_col, -1)))\n",
    "    x_range = muap.shape[2]  # in samples\n",
    "\n",
    "    # Add scale bars\n",
    "    ytick_length = min(y_range, 0.25)  # mV\n",
    "    ytick_pos = -0.1 * x_range  # Place tick 10% to the left of data\n",
    "    ax.plot([ytick_pos, ytick_pos], [min_y, min_y+ytick_length], color='k', linewidth=1)\n",
    "    ax.text(ytick_pos, min_y + ytick_length/2, f'{ytick_length:.2f}mV', ha='right', va='center', fontsize=8, rotation=90)\n",
    "\n",
    "    xtick_length = min(x_range, 100)  # samples\n",
    "    xtick_pos = min_y - 0.1 * y_range  # Place tick 10% below data\n",
    "    ax.plot([0, xtick_length], [xtick_pos, xtick_pos], color='k', linewidth=1)\n",
    "    ax.text(xtick_length/2, xtick_pos - 0.1 * y_range, f'{int(xtick_length)}ms', ha='center', va='top', fontsize=8)\n"
   ]
  },
  {
   "cell_type": "markdown",
   "metadata": {},
   "source": [
    "### Understanding the BioMime Simulator\n",
    "\n",
    "The BioMime simulator takes six physiological parameters and generates a MUAP. Let's first explore how changing these parameters affects the generated MUAP."
   ]
  },
  {
   "cell_type": "code",
   "execution_count": 4,
   "metadata": {},
   "outputs": [
    {
     "data": {
      "application/vnd.jupyter.widget-view+json": {
       "model_id": "bff6b618a0c444b59216a89e47a4f4f8",
       "version_major": 2,
       "version_minor": 0
      },
      "text/plain": [
       "interactive(children=(FloatSlider(value=0.75, description='FD', max=1.0, min=0.5, step=0.01), FloatSlider(valu…"
      ]
     },
     "metadata": {},
     "output_type": "display_data"
    },
    {
     "data": {
      "text/plain": [
       "<function __main__.generate_plot_muap(fd, d, a, iz, cv, fl)>"
      ]
     },
     "metadata": {},
     "output_type": "display_data"
    }
   ],
   "source": [
    "# Define sliders for each parameter\n",
    "fdensity = FloatSlider(value=0.75, min=0.5, max=1.0, step=0.01, description='FD')\n",
    "depth = FloatSlider(value=0.75, min=0.5, max=1.0, step=0.01, description='D')\n",
    "angle = FloatSlider(value=0.75, min=0.5, max=1.0, step=0.01, description='A')\n",
    "izone = FloatSlider(value=0.75, min=0.5, max=1.0, step=0.01, description='IZ')\n",
    "cvel = FloatSlider(value=0.75, min=0.5, max=1.0, step=0.01, description='CV')\n",
    "flength = FloatSlider(value=0.75, min=0.5, max=1.0, step=0.01, description='FL')\n",
    "\n",
    "def generate_plot_muap(fd, d, a, iz, cv, fl):\n",
    "    # Generate MUAP given specified conditions\n",
    "    context = torch.tensor((fd, d, a, iz, cv, fl))[None, :]\n",
    "    sim_muaps = simulator_biomime6(context).reshape((-1, 10, 32)).detach().numpy()\n",
    "    plot_muap(sim_muaps.transpose((1, 2, 0))[:, ::2, :])\n",
    "    plt.show()\n",
    "    return\n",
    "\n",
    "widget = interact_manual(generate_plot_muap, fd=fdensity, d=depth, a=angle, iz=izone, cv=cvel, fl=flength)\n",
    "display(widget)"
   ]
  },
  {
   "cell_type": "markdown",
   "metadata": {},
   "source": [
    "> **Task 3.1** Explore the simulator\n",
    "1. How does changing each parameter affect the MUAP?\n",
    "2. Are there any parameters that seem to have similar effects?\n",
    "3. Which parameters appear to have the most significant impact on the MUAP shape?"
   ]
  },
  {
   "cell_type": "markdown",
   "metadata": {},
   "source": [
    "### Setting up SBI for BioMime\n",
    "\n",
    "Now that we understand the simulator, let's set up SBI to estimate the parameters from observed MUAPs. We'll need to:\n",
    "1. Define a prior distribution over the parameters\n",
    "2. Create a neural network to process the MUAP data\n",
    "3. Train the SBI model"
   ]
  },
  {
   "cell_type": "code",
   "execution_count": 25,
   "metadata": {},
   "outputs": [],
   "source": [
    "from sbi.analysis import pairplot\n",
    "from sbi.inference import NPE\n",
    "from sbi.utils import BoxUniform\n",
    "from sbi.neural_nets import posterior_nn\n",
    "from sbi.utils.user_input_checks import (\n",
    "    check_sbi_inputs,\n",
    "    process_prior,\n",
    "    process_simulator,\n",
    ")"
   ]
  },
  {
   "cell_type": "code",
   "execution_count": null,
   "metadata": {},
   "outputs": [],
   "source": [
    "# # import the different choices of pre-configured embedding networks\n",
    "# from sbi.neural_nets.embedding_nets import (\n",
    "#     FCEmbedding,\n",
    "#     CNNEmbedding,\n",
    "#     PermutationInvariantEmbedding\n",
    "# )\n",
    "\n",
    "# choose which type of pre-configured embedding net to use (e.g. CNN)\n",
    "# embedding_net = CNNEmbedding(input_shape=(32, 32))"
   ]
  },
  {
   "cell_type": "code",
   "execution_count": 26,
   "metadata": {},
   "outputs": [],
   "source": [
    "# Define the prior distribution\n",
    "n_dim = 6\n",
    "prior = BoxUniform(low=0.5 * torch.ones(n_dim), high=torch.ones(n_dim))\n",
    "\n",
    "# Define a neural network to process MUAPs\n",
    "class SummaryNet_2D(torch.nn.Module):\n",
    "    def __init__(self):\n",
    "        super().__init__()\n",
    "        self.conv1 = torch.nn.Conv2d(in_channels=1, out_channels=16, kernel_size=5, padding=2)\n",
    "        self.pool = torch.nn.MaxPool2d(kernel_size=8, stride=8)\n",
    "        self.fc = torch.nn.Linear(in_features=16 * 40 * 12, out_features=16)\n",
    "\n",
    "    def forward(self, x):\n",
    "        x = x.view(-1, 1, 320, 96)\n",
    "        x = self.pool(torch.nn.functional.relu(self.conv1(x)))\n",
    "        x = x.view(-1, 16 * 40 * 12)\n",
    "        x = torch.nn.functional.relu(self.fc(x))\n",
    "        return x\n",
    "\n",
    "embedding_net = SummaryNet_2D()"
   ]
  },
  {
   "cell_type": "code",
   "execution_count": 27,
   "metadata": {},
   "outputs": [],
   "source": [
    "# instantiate the conditional neural density estimator\n",
    "neural_posterior = posterior_nn(model=\"maf\", embedding_net=embedding_net)\n",
    "\n",
    "# setup the inference procedure with NPE\n",
    "inference = NPE(prior=prior, density_estimator=neural_posterior)\n",
    "\n",
    "# Check prior\n",
    "prior, num_parameters, prior_returns_numpy = process_prior(prior)\n",
    "\n",
    "# Check simulator\n",
    "simulator = process_simulator(simulator_biomime6, prior, prior_returns_numpy)\n",
    "\n",
    "# Consistency check after making ready for sbi.\n",
    "check_sbi_inputs(simulator, prior)"
   ]
  },
  {
   "cell_type": "code",
   "execution_count": null,
   "metadata": {},
   "outputs": [],
   "source": [
    "# Generate samples from the prior\n",
    "num_simulations = 100\n",
    "theta = prior.sample((num_simulations,))\n",
    "x = simulator(theta)\n",
    "print(\"theta.shape\", theta.shape)\n",
    "print(\"x.shape\", x.shape)"
   ]
  },
  {
   "cell_type": "code",
   "execution_count": null,
   "metadata": {},
   "outputs": [],
   "source": [
    "# train the density estimator\n",
    "density_estimator = inference.append_simulations(theta, x).train()\n",
    "\n",
    "# build the posterior\n",
    "posterior = inference.build_posterior(density_estimator)"
   ]
  },
  {
   "cell_type": "markdown",
   "metadata": {},
   "source": [
    "> **Task 3.2** Training the SBI model\n",
    "1. Run the training with 5000 simulations\n",
    "2. Save the trained model\n",
    "3. Test the model with a known parameter set"
   ]
  },
  {
   "cell_type": "code",
   "execution_count": null,
   "metadata": {},
   "outputs": [],
   "source": [
    "# Your code here\n",
    "# 1. Generate training data\n",
    "# 2. Train the model\n",
    "# 3. Save the model\n",
    "# 4. Test with known parameters"
   ]
  },
  {
   "cell_type": "markdown",
   "metadata": {},
   "source": [
    "### Analyzing the Results\n",
    "\n",
    "Once we have a trained model, we can use it to estimate parameters from observed MUAPs. Let's analyze how well our model performs."
   ]
  },
  {
   "cell_type": "code",
   "execution_count": null,
   "metadata": {},
   "outputs": [],
   "source": [
    "# Code for analyzing results will go here\n",
    "# This will include:\n",
    "# 1. Generating test cases\n",
    "# 2. Running parameter estimation\n",
    "# 3. Visualizing the results"
   ]
  },
  {
   "cell_type": "markdown",
   "metadata": {},
   "source": [
    "> **Task 3.3** Model Analysis\n",
    "1. How accurate is the parameter estimation?\n",
    "2. Are there any parameters that are harder to estimate than others?\n",
    "3. How does the uncertainty in parameter estimates vary across the parameter space?"
   ]
  }
 ],
 "metadata": {
  "kernelspec": {
   "display_name": ".venv",
   "language": "python",
   "name": "python3"
  },
  "language_info": {
   "codemirror_mode": {
    "name": "ipython",
    "version": 3
   },
   "file_extension": ".py",
   "mimetype": "text/x-python",
   "name": "python",
   "nbconvert_exporter": "python",
   "pygments_lexer": "ipython3",
   "version": "3.10.16"
  }
 },
 "nbformat": 4,
 "nbformat_minor": 2
}
